{
  "metadata": {
    "kernelspec": {
      "language": "python",
      "display_name": "Python 3",
      "name": "python3"
    },
    "language_info": {
      "name": "python",
      "version": "3.7.12",
      "mimetype": "text/x-python",
      "codemirror_mode": {
        "name": "ipython",
        "version": 3
      },
      "pygments_lexer": "ipython3",
      "nbconvert_exporter": "python",
      "file_extension": ".py"
    },
    "colab": {
      "provenance": [],
      "include_colab_link": true
    }
  },
  "nbformat_minor": 0,
  "nbformat": 4,
  "cells": [
    {
      "cell_type": "markdown",
      "metadata": {
        "id": "view-in-github",
        "colab_type": "text"
      },
      "source": [
        "<a href=\"https://colab.research.google.com/github/deswanrakhmat/TravellerTripAnalysis/blob/main/Traveler_Trip_Analysis.ipynb\" target=\"_parent\"><img src=\"https://colab.research.google.com/assets/colab-badge.svg\" alt=\"Open In Colab\"/></a>"
      ]
    },
    {
      "cell_type": "code",
      "source": [
        "import pandas as pd\n",
        "import numpy as np\n",
        "import matplotlib.pyplot as plt\n",
        "import seaborn as sns\n",
        "sns.set()"
      ],
      "metadata": {
        "_uuid": "8f2839f25d086af736a60e9eeb907d3b93b6e0e5",
        "_cell_guid": "b1076dfc-b9ad-4769-8c92-a6c4dae69d19",
        "execution": {
          "iopub.status.busy": "2023-03-12T19:04:41.588487Z",
          "iopub.execute_input": "2023-03-12T19:04:41.588957Z",
          "iopub.status.idle": "2023-03-12T19:04:41.596095Z",
          "shell.execute_reply.started": "2023-03-12T19:04:41.588908Z",
          "shell.execute_reply": "2023-03-12T19:04:41.594808Z"
        },
        "trusted": true,
        "id": "j3WaYLIfY-jt"
      },
      "execution_count": null,
      "outputs": []
    },
    {
      "cell_type": "code",
      "source": [
        "df = pd.read_csv('traveller dataset.csv')"
      ],
      "metadata": {
        "execution": {
          "iopub.status.busy": "2023-03-12T19:04:41.598003Z",
          "iopub.execute_input": "2023-03-12T19:04:41.598320Z",
          "iopub.status.idle": "2023-03-12T19:04:41.615180Z",
          "shell.execute_reply.started": "2023-03-12T19:04:41.598289Z",
          "shell.execute_reply": "2023-03-12T19:04:41.613812Z"
        },
        "trusted": true,
        "id": "qXP8Ej0_Y-ju"
      },
      "execution_count": null,
      "outputs": []
    },
    {
      "cell_type": "code",
      "source": [
        "df.head()"
      ],
      "metadata": {
        "execution": {
          "iopub.status.busy": "2023-03-12T19:04:41.616415Z",
          "iopub.execute_input": "2023-03-12T19:04:41.616732Z",
          "iopub.status.idle": "2023-03-12T19:04:41.637515Z",
          "shell.execute_reply.started": "2023-03-12T19:04:41.616700Z",
          "shell.execute_reply": "2023-03-12T19:04:41.636152Z"
        },
        "trusted": true,
        "colab": {
          "base_uri": "https://localhost:8080/"
        },
        "id": "Omop-W4dY-jv",
        "outputId": "b9ac4bfa-b826-45b1-d50d-18bdcd2fa54f"
      },
      "execution_count": null,
      "outputs": [
        {
          "output_type": "execute_result",
          "data": {
            "text/plain": [
              "   Trip ID       Destination Start date   End date  Duration (days)  \\\n",
              "0        1        London, UK   5/1/2023   5/8/2023              7.0   \n",
              "1        2  Phuket, Thailand  6/15/2023  6/20/2023              5.0   \n",
              "2        3   Bali, Indonesia   7/1/2023   7/8/2023              7.0   \n",
              "3        4     New York, USA  8/15/2023  8/29/2023             14.0   \n",
              "4        5      Tokyo, Japan  9/10/2023  9/17/2023              7.0   \n",
              "\n",
              "   Traveler name  Traveler age Traveler gender Traveler nationality  \\\n",
              "0     John Smith          35.0            Male             American   \n",
              "1       Jane Doe          28.0          Female             Canadian   \n",
              "2      David Lee          45.0            Male               Korean   \n",
              "3  Sarah Johnson          29.0          Female              British   \n",
              "4     Kim Nguyen          26.0          Female           Vietnamese   \n",
              "\n",
              "  Accommodation type Accommodation cost Transportation type  \\\n",
              "0              Hotel               1200              Flight   \n",
              "1             Resort                800              Flight   \n",
              "2              Villa               1000              Flight   \n",
              "3              Hotel               2000              Flight   \n",
              "4             Airbnb                700               Train   \n",
              "\n",
              "  Transportation cost  \n",
              "0                 600  \n",
              "1                 500  \n",
              "2                 700  \n",
              "3                1000  \n",
              "4                 200  "
            ],
            "text/html": [
              "\n",
              "  <div id=\"df-63934318-6167-4397-83f5-21af3342d40c\">\n",
              "    <div class=\"colab-df-container\">\n",
              "      <div>\n",
              "<style scoped>\n",
              "    .dataframe tbody tr th:only-of-type {\n",
              "        vertical-align: middle;\n",
              "    }\n",
              "\n",
              "    .dataframe tbody tr th {\n",
              "        vertical-align: top;\n",
              "    }\n",
              "\n",
              "    .dataframe thead th {\n",
              "        text-align: right;\n",
              "    }\n",
              "</style>\n",
              "<table border=\"1\" class=\"dataframe\">\n",
              "  <thead>\n",
              "    <tr style=\"text-align: right;\">\n",
              "      <th></th>\n",
              "      <th>Trip ID</th>\n",
              "      <th>Destination</th>\n",
              "      <th>Start date</th>\n",
              "      <th>End date</th>\n",
              "      <th>Duration (days)</th>\n",
              "      <th>Traveler name</th>\n",
              "      <th>Traveler age</th>\n",
              "      <th>Traveler gender</th>\n",
              "      <th>Traveler nationality</th>\n",
              "      <th>Accommodation type</th>\n",
              "      <th>Accommodation cost</th>\n",
              "      <th>Transportation type</th>\n",
              "      <th>Transportation cost</th>\n",
              "    </tr>\n",
              "  </thead>\n",
              "  <tbody>\n",
              "    <tr>\n",
              "      <th>0</th>\n",
              "      <td>1</td>\n",
              "      <td>London, UK</td>\n",
              "      <td>5/1/2023</td>\n",
              "      <td>5/8/2023</td>\n",
              "      <td>7.0</td>\n",
              "      <td>John Smith</td>\n",
              "      <td>35.0</td>\n",
              "      <td>Male</td>\n",
              "      <td>American</td>\n",
              "      <td>Hotel</td>\n",
              "      <td>1200</td>\n",
              "      <td>Flight</td>\n",
              "      <td>600</td>\n",
              "    </tr>\n",
              "    <tr>\n",
              "      <th>1</th>\n",
              "      <td>2</td>\n",
              "      <td>Phuket, Thailand</td>\n",
              "      <td>6/15/2023</td>\n",
              "      <td>6/20/2023</td>\n",
              "      <td>5.0</td>\n",
              "      <td>Jane Doe</td>\n",
              "      <td>28.0</td>\n",
              "      <td>Female</td>\n",
              "      <td>Canadian</td>\n",
              "      <td>Resort</td>\n",
              "      <td>800</td>\n",
              "      <td>Flight</td>\n",
              "      <td>500</td>\n",
              "    </tr>\n",
              "    <tr>\n",
              "      <th>2</th>\n",
              "      <td>3</td>\n",
              "      <td>Bali, Indonesia</td>\n",
              "      <td>7/1/2023</td>\n",
              "      <td>7/8/2023</td>\n",
              "      <td>7.0</td>\n",
              "      <td>David Lee</td>\n",
              "      <td>45.0</td>\n",
              "      <td>Male</td>\n",
              "      <td>Korean</td>\n",
              "      <td>Villa</td>\n",
              "      <td>1000</td>\n",
              "      <td>Flight</td>\n",
              "      <td>700</td>\n",
              "    </tr>\n",
              "    <tr>\n",
              "      <th>3</th>\n",
              "      <td>4</td>\n",
              "      <td>New York, USA</td>\n",
              "      <td>8/15/2023</td>\n",
              "      <td>8/29/2023</td>\n",
              "      <td>14.0</td>\n",
              "      <td>Sarah Johnson</td>\n",
              "      <td>29.0</td>\n",
              "      <td>Female</td>\n",
              "      <td>British</td>\n",
              "      <td>Hotel</td>\n",
              "      <td>2000</td>\n",
              "      <td>Flight</td>\n",
              "      <td>1000</td>\n",
              "    </tr>\n",
              "    <tr>\n",
              "      <th>4</th>\n",
              "      <td>5</td>\n",
              "      <td>Tokyo, Japan</td>\n",
              "      <td>9/10/2023</td>\n",
              "      <td>9/17/2023</td>\n",
              "      <td>7.0</td>\n",
              "      <td>Kim Nguyen</td>\n",
              "      <td>26.0</td>\n",
              "      <td>Female</td>\n",
              "      <td>Vietnamese</td>\n",
              "      <td>Airbnb</td>\n",
              "      <td>700</td>\n",
              "      <td>Train</td>\n",
              "      <td>200</td>\n",
              "    </tr>\n",
              "  </tbody>\n",
              "</table>\n",
              "</div>\n",
              "      <button class=\"colab-df-convert\" onclick=\"convertToInteractive('df-63934318-6167-4397-83f5-21af3342d40c')\"\n",
              "              title=\"Convert this dataframe to an interactive table.\"\n",
              "              style=\"display:none;\">\n",
              "        \n",
              "  <svg xmlns=\"http://www.w3.org/2000/svg\" height=\"24px\"viewBox=\"0 0 24 24\"\n",
              "       width=\"24px\">\n",
              "    <path d=\"M0 0h24v24H0V0z\" fill=\"none\"/>\n",
              "    <path d=\"M18.56 5.44l.94 2.06.94-2.06 2.06-.94-2.06-.94-.94-2.06-.94 2.06-2.06.94zm-11 1L8.5 8.5l.94-2.06 2.06-.94-2.06-.94L8.5 2.5l-.94 2.06-2.06.94zm10 10l.94 2.06.94-2.06 2.06-.94-2.06-.94-.94-2.06-.94 2.06-2.06.94z\"/><path d=\"M17.41 7.96l-1.37-1.37c-.4-.4-.92-.59-1.43-.59-.52 0-1.04.2-1.43.59L10.3 9.45l-7.72 7.72c-.78.78-.78 2.05 0 2.83L4 21.41c.39.39.9.59 1.41.59.51 0 1.02-.2 1.41-.59l7.78-7.78 2.81-2.81c.8-.78.8-2.07 0-2.86zM5.41 20L4 18.59l7.72-7.72 1.47 1.35L5.41 20z\"/>\n",
              "  </svg>\n",
              "      </button>\n",
              "      \n",
              "  <style>\n",
              "    .colab-df-container {\n",
              "      display:flex;\n",
              "      flex-wrap:wrap;\n",
              "      gap: 12px;\n",
              "    }\n",
              "\n",
              "    .colab-df-convert {\n",
              "      background-color: #E8F0FE;\n",
              "      border: none;\n",
              "      border-radius: 50%;\n",
              "      cursor: pointer;\n",
              "      display: none;\n",
              "      fill: #1967D2;\n",
              "      height: 32px;\n",
              "      padding: 0 0 0 0;\n",
              "      width: 32px;\n",
              "    }\n",
              "\n",
              "    .colab-df-convert:hover {\n",
              "      background-color: #E2EBFA;\n",
              "      box-shadow: 0px 1px 2px rgba(60, 64, 67, 0.3), 0px 1px 3px 1px rgba(60, 64, 67, 0.15);\n",
              "      fill: #174EA6;\n",
              "    }\n",
              "\n",
              "    [theme=dark] .colab-df-convert {\n",
              "      background-color: #3B4455;\n",
              "      fill: #D2E3FC;\n",
              "    }\n",
              "\n",
              "    [theme=dark] .colab-df-convert:hover {\n",
              "      background-color: #434B5C;\n",
              "      box-shadow: 0px 1px 3px 1px rgba(0, 0, 0, 0.15);\n",
              "      filter: drop-shadow(0px 1px 2px rgba(0, 0, 0, 0.3));\n",
              "      fill: #FFFFFF;\n",
              "    }\n",
              "  </style>\n",
              "\n",
              "      <script>\n",
              "        const buttonEl =\n",
              "          document.querySelector('#df-63934318-6167-4397-83f5-21af3342d40c button.colab-df-convert');\n",
              "        buttonEl.style.display =\n",
              "          google.colab.kernel.accessAllowed ? 'block' : 'none';\n",
              "\n",
              "        async function convertToInteractive(key) {\n",
              "          const element = document.querySelector('#df-63934318-6167-4397-83f5-21af3342d40c');\n",
              "          const dataTable =\n",
              "            await google.colab.kernel.invokeFunction('convertToInteractive',\n",
              "                                                     [key], {});\n",
              "          if (!dataTable) return;\n",
              "\n",
              "          const docLinkHtml = 'Like what you see? Visit the ' +\n",
              "            '<a target=\"_blank\" href=https://colab.research.google.com/notebooks/data_table.ipynb>data table notebook</a>'\n",
              "            + ' to learn more about interactive tables.';\n",
              "          element.innerHTML = '';\n",
              "          dataTable['output_type'] = 'display_data';\n",
              "          await google.colab.output.renderOutput(dataTable, element);\n",
              "          const docLink = document.createElement('div');\n",
              "          docLink.innerHTML = docLinkHtml;\n",
              "          element.appendChild(docLink);\n",
              "        }\n",
              "      </script>\n",
              "    </div>\n",
              "  </div>\n",
              "  "
            ]
          },
          "metadata": {},
          "execution_count": 3
        }
      ]
    },
    {
      "cell_type": "code",
      "source": [
        "# view number of rows and columns\n",
        "print(\"Number of rows and columns:\", df.shape)"
      ],
      "metadata": {
        "execution": {
          "iopub.status.busy": "2023-03-12T19:04:41.638729Z",
          "iopub.execute_input": "2023-03-12T19:04:41.639053Z",
          "iopub.status.idle": "2023-03-12T19:04:41.647593Z",
          "shell.execute_reply.started": "2023-03-12T19:04:41.639021Z",
          "shell.execute_reply": "2023-03-12T19:04:41.646263Z"
        },
        "trusted": true,
        "colab": {
          "base_uri": "https://localhost:8080/"
        },
        "id": "gLTla4zLY-jw",
        "outputId": "696a4df2-a319-41fc-ec40-df8938c984e0"
      },
      "execution_count": null,
      "outputs": [
        {
          "output_type": "stream",
          "name": "stdout",
          "text": [
            "Number of rows and columns: (139, 13)\n"
          ]
        }
      ]
    },
    {
      "cell_type": "code",
      "source": [
        "df.info()"
      ],
      "metadata": {
        "execution": {
          "iopub.status.busy": "2023-03-12T19:04:41.648774Z",
          "iopub.execute_input": "2023-03-12T19:04:41.649125Z",
          "iopub.status.idle": "2023-03-12T19:04:41.666946Z",
          "shell.execute_reply.started": "2023-03-12T19:04:41.649092Z",
          "shell.execute_reply": "2023-03-12T19:04:41.665440Z"
        },
        "trusted": true,
        "colab": {
          "base_uri": "https://localhost:8080/"
        },
        "id": "x9y95ye8Y-jw",
        "outputId": "2c59b10c-70a5-42ce-b83c-c554b67b09fd"
      },
      "execution_count": null,
      "outputs": [
        {
          "output_type": "stream",
          "name": "stdout",
          "text": [
            "<class 'pandas.core.frame.DataFrame'>\n",
            "RangeIndex: 139 entries, 0 to 138\n",
            "Data columns (total 13 columns):\n",
            " #   Column                Non-Null Count  Dtype  \n",
            "---  ------                --------------  -----  \n",
            " 0   Trip ID               139 non-null    int64  \n",
            " 1   Destination           137 non-null    object \n",
            " 2   Start date            137 non-null    object \n",
            " 3   End date              137 non-null    object \n",
            " 4   Duration (days)       137 non-null    float64\n",
            " 5   Traveler name         137 non-null    object \n",
            " 6   Traveler age          137 non-null    float64\n",
            " 7   Traveler gender       137 non-null    object \n",
            " 8   Traveler nationality  137 non-null    object \n",
            " 9   Accommodation type    137 non-null    object \n",
            " 10  Accommodation cost    137 non-null    object \n",
            " 11  Transportation type   136 non-null    object \n",
            " 12  Transportation cost   136 non-null    object \n",
            "dtypes: float64(2), int64(1), object(10)\n",
            "memory usage: 14.2+ KB\n"
          ]
        }
      ]
    },
    {
      "cell_type": "markdown",
      "source": [
        "# # **Exploratory Data Analysis (EDA)**"
      ],
      "metadata": {
        "id": "tifrBRnnY-jw"
      }
    },
    {
      "cell_type": "markdown",
      "source": [
        "# **Data Cleaning**"
      ],
      "metadata": {
        "id": "ExfmEEH2Y-jx"
      }
    },
    {
      "cell_type": "markdown",
      "source": [
        "# *Handling Missing Data*"
      ],
      "metadata": {
        "id": "Or-ST6jtY-jy"
      }
    },
    {
      "cell_type": "code",
      "source": [
        "# Check for missing values\n",
        "print(df.isnull().sum())"
      ],
      "metadata": {
        "execution": {
          "iopub.status.busy": "2023-03-12T19:04:41.668828Z",
          "iopub.execute_input": "2023-03-12T19:04:41.669187Z",
          "iopub.status.idle": "2023-03-12T19:04:41.679302Z",
          "shell.execute_reply.started": "2023-03-12T19:04:41.669150Z",
          "shell.execute_reply": "2023-03-12T19:04:41.677890Z"
        },
        "trusted": true,
        "colab": {
          "base_uri": "https://localhost:8080/"
        },
        "id": "EEbPipVRY-jy",
        "outputId": "573ee023-3867-45ac-b0a1-791807b8509a"
      },
      "execution_count": null,
      "outputs": [
        {
          "output_type": "stream",
          "name": "stdout",
          "text": [
            "Trip ID                 0\n",
            "Destination             2\n",
            "Start date              2\n",
            "End date                2\n",
            "Duration (days)         2\n",
            "Traveler name           2\n",
            "Traveler age            2\n",
            "Traveler gender         2\n",
            "Traveler nationality    2\n",
            "Accommodation type      2\n",
            "Accommodation cost      2\n",
            "Transportation type     3\n",
            "Transportation cost     3\n",
            "dtype: int64\n"
          ]
        }
      ]
    },
    {
      "cell_type": "code",
      "source": [
        "# find rows that have missing values\n",
        "df[df.isnull().any(axis=1)]"
      ],
      "metadata": {
        "execution": {
          "iopub.status.busy": "2023-03-12T19:04:41.682610Z",
          "iopub.execute_input": "2023-03-12T19:04:41.682999Z",
          "iopub.status.idle": "2023-03-12T19:04:41.705303Z",
          "shell.execute_reply.started": "2023-03-12T19:04:41.682962Z",
          "shell.execute_reply": "2023-03-12T19:04:41.703950Z"
        },
        "trusted": true,
        "colab": {
          "base_uri": "https://localhost:8080/"
        },
        "id": "T-7jKzi_Y-jy",
        "outputId": "fc4c9342-6b86-4fe8-be0a-e6d8543e81c4"
      },
      "execution_count": null,
      "outputs": [
        {
          "output_type": "execute_result",
          "data": {
            "text/plain": [
              "     Trip ID  Destination Start date   End date  Duration (days)  \\\n",
              "71        72          NaN        NaN        NaN              NaN   \n",
              "82        83  Rome, Italy  4/15/2025  4/22/2025              7.0   \n",
              "127      128          NaN        NaN        NaN              NaN   \n",
              "\n",
              "    Traveler name  Traveler age Traveler gender Traveler nationality  \\\n",
              "71            NaN           NaN             NaN                  NaN   \n",
              "82      James Kim          41.0            Male             American   \n",
              "127           NaN           NaN             NaN                  NaN   \n",
              "\n",
              "    Accommodation type Accommodation cost Transportation type  \\\n",
              "71                 NaN                NaN                 NaN   \n",
              "82               Hotel                100                 NaN   \n",
              "127                NaN                NaN                 NaN   \n",
              "\n",
              "    Transportation cost  \n",
              "71                  NaN  \n",
              "82                  NaN  \n",
              "127                 NaN  "
            ],
            "text/html": [
              "\n",
              "  <div id=\"df-8905a0c9-80e9-43ac-b907-848ac3fb3ca8\">\n",
              "    <div class=\"colab-df-container\">\n",
              "      <div>\n",
              "<style scoped>\n",
              "    .dataframe tbody tr th:only-of-type {\n",
              "        vertical-align: middle;\n",
              "    }\n",
              "\n",
              "    .dataframe tbody tr th {\n",
              "        vertical-align: top;\n",
              "    }\n",
              "\n",
              "    .dataframe thead th {\n",
              "        text-align: right;\n",
              "    }\n",
              "</style>\n",
              "<table border=\"1\" class=\"dataframe\">\n",
              "  <thead>\n",
              "    <tr style=\"text-align: right;\">\n",
              "      <th></th>\n",
              "      <th>Trip ID</th>\n",
              "      <th>Destination</th>\n",
              "      <th>Start date</th>\n",
              "      <th>End date</th>\n",
              "      <th>Duration (days)</th>\n",
              "      <th>Traveler name</th>\n",
              "      <th>Traveler age</th>\n",
              "      <th>Traveler gender</th>\n",
              "      <th>Traveler nationality</th>\n",
              "      <th>Accommodation type</th>\n",
              "      <th>Accommodation cost</th>\n",
              "      <th>Transportation type</th>\n",
              "      <th>Transportation cost</th>\n",
              "    </tr>\n",
              "  </thead>\n",
              "  <tbody>\n",
              "    <tr>\n",
              "      <th>71</th>\n",
              "      <td>72</td>\n",
              "      <td>NaN</td>\n",
              "      <td>NaN</td>\n",
              "      <td>NaN</td>\n",
              "      <td>NaN</td>\n",
              "      <td>NaN</td>\n",
              "      <td>NaN</td>\n",
              "      <td>NaN</td>\n",
              "      <td>NaN</td>\n",
              "      <td>NaN</td>\n",
              "      <td>NaN</td>\n",
              "      <td>NaN</td>\n",
              "      <td>NaN</td>\n",
              "    </tr>\n",
              "    <tr>\n",
              "      <th>82</th>\n",
              "      <td>83</td>\n",
              "      <td>Rome, Italy</td>\n",
              "      <td>4/15/2025</td>\n",
              "      <td>4/22/2025</td>\n",
              "      <td>7.0</td>\n",
              "      <td>James Kim</td>\n",
              "      <td>41.0</td>\n",
              "      <td>Male</td>\n",
              "      <td>American</td>\n",
              "      <td>Hotel</td>\n",
              "      <td>100</td>\n",
              "      <td>NaN</td>\n",
              "      <td>NaN</td>\n",
              "    </tr>\n",
              "    <tr>\n",
              "      <th>127</th>\n",
              "      <td>128</td>\n",
              "      <td>NaN</td>\n",
              "      <td>NaN</td>\n",
              "      <td>NaN</td>\n",
              "      <td>NaN</td>\n",
              "      <td>NaN</td>\n",
              "      <td>NaN</td>\n",
              "      <td>NaN</td>\n",
              "      <td>NaN</td>\n",
              "      <td>NaN</td>\n",
              "      <td>NaN</td>\n",
              "      <td>NaN</td>\n",
              "      <td>NaN</td>\n",
              "    </tr>\n",
              "  </tbody>\n",
              "</table>\n",
              "</div>\n",
              "      <button class=\"colab-df-convert\" onclick=\"convertToInteractive('df-8905a0c9-80e9-43ac-b907-848ac3fb3ca8')\"\n",
              "              title=\"Convert this dataframe to an interactive table.\"\n",
              "              style=\"display:none;\">\n",
              "        \n",
              "  <svg xmlns=\"http://www.w3.org/2000/svg\" height=\"24px\"viewBox=\"0 0 24 24\"\n",
              "       width=\"24px\">\n",
              "    <path d=\"M0 0h24v24H0V0z\" fill=\"none\"/>\n",
              "    <path d=\"M18.56 5.44l.94 2.06.94-2.06 2.06-.94-2.06-.94-.94-2.06-.94 2.06-2.06.94zm-11 1L8.5 8.5l.94-2.06 2.06-.94-2.06-.94L8.5 2.5l-.94 2.06-2.06.94zm10 10l.94 2.06.94-2.06 2.06-.94-2.06-.94-.94-2.06-.94 2.06-2.06.94z\"/><path d=\"M17.41 7.96l-1.37-1.37c-.4-.4-.92-.59-1.43-.59-.52 0-1.04.2-1.43.59L10.3 9.45l-7.72 7.72c-.78.78-.78 2.05 0 2.83L4 21.41c.39.39.9.59 1.41.59.51 0 1.02-.2 1.41-.59l7.78-7.78 2.81-2.81c.8-.78.8-2.07 0-2.86zM5.41 20L4 18.59l7.72-7.72 1.47 1.35L5.41 20z\"/>\n",
              "  </svg>\n",
              "      </button>\n",
              "      \n",
              "  <style>\n",
              "    .colab-df-container {\n",
              "      display:flex;\n",
              "      flex-wrap:wrap;\n",
              "      gap: 12px;\n",
              "    }\n",
              "\n",
              "    .colab-df-convert {\n",
              "      background-color: #E8F0FE;\n",
              "      border: none;\n",
              "      border-radius: 50%;\n",
              "      cursor: pointer;\n",
              "      display: none;\n",
              "      fill: #1967D2;\n",
              "      height: 32px;\n",
              "      padding: 0 0 0 0;\n",
              "      width: 32px;\n",
              "    }\n",
              "\n",
              "    .colab-df-convert:hover {\n",
              "      background-color: #E2EBFA;\n",
              "      box-shadow: 0px 1px 2px rgba(60, 64, 67, 0.3), 0px 1px 3px 1px rgba(60, 64, 67, 0.15);\n",
              "      fill: #174EA6;\n",
              "    }\n",
              "\n",
              "    [theme=dark] .colab-df-convert {\n",
              "      background-color: #3B4455;\n",
              "      fill: #D2E3FC;\n",
              "    }\n",
              "\n",
              "    [theme=dark] .colab-df-convert:hover {\n",
              "      background-color: #434B5C;\n",
              "      box-shadow: 0px 1px 3px 1px rgba(0, 0, 0, 0.15);\n",
              "      filter: drop-shadow(0px 1px 2px rgba(0, 0, 0, 0.3));\n",
              "      fill: #FFFFFF;\n",
              "    }\n",
              "  </style>\n",
              "\n",
              "      <script>\n",
              "        const buttonEl =\n",
              "          document.querySelector('#df-8905a0c9-80e9-43ac-b907-848ac3fb3ca8 button.colab-df-convert');\n",
              "        buttonEl.style.display =\n",
              "          google.colab.kernel.accessAllowed ? 'block' : 'none';\n",
              "\n",
              "        async function convertToInteractive(key) {\n",
              "          const element = document.querySelector('#df-8905a0c9-80e9-43ac-b907-848ac3fb3ca8');\n",
              "          const dataTable =\n",
              "            await google.colab.kernel.invokeFunction('convertToInteractive',\n",
              "                                                     [key], {});\n",
              "          if (!dataTable) return;\n",
              "\n",
              "          const docLinkHtml = 'Like what you see? Visit the ' +\n",
              "            '<a target=\"_blank\" href=https://colab.research.google.com/notebooks/data_table.ipynb>data table notebook</a>'\n",
              "            + ' to learn more about interactive tables.';\n",
              "          element.innerHTML = '';\n",
              "          dataTable['output_type'] = 'display_data';\n",
              "          await google.colab.output.renderOutput(dataTable, element);\n",
              "          const docLink = document.createElement('div');\n",
              "          docLink.innerHTML = docLinkHtml;\n",
              "          element.appendChild(docLink);\n",
              "        }\n",
              "      </script>\n",
              "    </div>\n",
              "  </div>\n",
              "  "
            ]
          },
          "metadata": {},
          "execution_count": 7
        }
      ]
    },
    {
      "cell_type": "code",
      "source": [
        "# remove rows that have missing values\n",
        "df.dropna(inplace=True)\n",
        "\n",
        "print(\"Missing values have been removed\")"
      ],
      "metadata": {
        "execution": {
          "iopub.status.busy": "2023-03-12T19:04:41.707268Z",
          "iopub.execute_input": "2023-03-12T19:04:41.707737Z",
          "iopub.status.idle": "2023-03-12T19:04:41.720131Z",
          "shell.execute_reply.started": "2023-03-12T19:04:41.707681Z",
          "shell.execute_reply": "2023-03-12T19:04:41.718961Z"
        },
        "trusted": true,
        "colab": {
          "base_uri": "https://localhost:8080/"
        },
        "id": "F0CJcf49Y-jz",
        "outputId": "6c086f81-1786-4d2d-83be-6ee0446ad457"
      },
      "execution_count": null,
      "outputs": [
        {
          "output_type": "stream",
          "name": "stdout",
          "text": [
            "Missing values have been removed\n"
          ]
        }
      ]
    },
    {
      "cell_type": "markdown",
      "source": [
        "# *Data Formatting*"
      ],
      "metadata": {
        "id": "LYy62JRnY-jz"
      }
    },
    {
      "cell_type": "code",
      "source": [
        "# Unique values in each column\n",
        "for col in df.columns:\n",
        "    print(f'Column name: {col}')\n",
        "    print(df[col].unique())\n",
        "    print('\\n')"
      ],
      "metadata": {
        "execution": {
          "iopub.status.busy": "2023-03-12T19:04:41.722004Z",
          "iopub.execute_input": "2023-03-12T19:04:41.722425Z",
          "iopub.status.idle": "2023-03-12T19:04:41.738104Z",
          "shell.execute_reply.started": "2023-03-12T19:04:41.722385Z",
          "shell.execute_reply": "2023-03-12T19:04:41.736586Z"
        },
        "trusted": true,
        "colab": {
          "base_uri": "https://localhost:8080/"
        },
        "id": "N4oeuhaXY-j2",
        "outputId": "194390dd-0b68-44df-aabc-1dfa7d133216"
      },
      "execution_count": null,
      "outputs": [
        {
          "output_type": "stream",
          "name": "stdout",
          "text": [
            "Column name: Trip ID\n",
            "[  1   2   3   4   5   6   7   8   9  10  11  12  13  14  15  16  17  18\n",
            "  19  20  21  22  23  24  25  26  27  28  29  30  31  32  33  34  35  36\n",
            "  37  38  39  40  41  42  43  44  45  46  47  48  49  50  51  52  53  54\n",
            "  55  56  57  58  59  60  61  62  63  64  65  66  67  68  69  70  71  73\n",
            "  74  75  76  77  78  79  80  81  82  84  85  86  87  88  89  90  91  92\n",
            "  93  94  95  96  97  98  99 100 101 102 103 104 105 106 107 108 109 110\n",
            " 111 112 113 114 115 116 117 118 119 120 121 122 123 124 125 126 127 129\n",
            " 130 131 132 133 134 135 136 137 138 139]\n",
            "\n",
            "\n",
            "Column name: Destination\n",
            "['London, UK' 'Phuket, Thailand' 'Bali, Indonesia' 'New York, USA'\n",
            " 'Tokyo, Japan' 'Paris, France' 'Sydney, Australia'\n",
            " 'Rio de Janeiro, Brazil' 'Amsterdam, Netherlands'\n",
            " 'Dubai, United Arab Emirates' 'Cancun, Mexico' 'Barcelona, Spain'\n",
            " 'Honolulu, Hawaii' 'Berlin, Germany' 'Marrakech, Morocco'\n",
            " 'Edinburgh, Scotland' 'Paris' 'Bali' 'London' 'Tokyo' 'New York' 'Sydney'\n",
            " 'Rome' 'Bangkok' 'Hawaii' 'Barcelona' 'Japan' 'Thailand' 'France'\n",
            " 'Australia' 'Brazil' 'Greece' 'Egypt' 'Mexico' 'Italy' 'Spain' 'Canada'\n",
            " 'New York City, USA' 'Bangkok, Thailand' 'Vancouver, Canada'\n",
            " 'Sydney, AUS' 'Seoul, South Korea' 'Los Angeles, USA' 'Rome, Italy'\n",
            " 'Cape Town' 'Cape Town, SA' 'Sydney, Aus' 'Bangkok, Thai' 'Phuket, Thai'\n",
            " 'Dubai' 'Seoul' 'Rio de Janeiro' 'Amsterdam' 'Phuket' 'Santorini'\n",
            " 'Phnom Penh' 'Athens, Greece' 'Cape Town, South Africa'\n",
            " 'Auckland, New Zealand']\n",
            "\n",
            "\n",
            "Column name: Start date\n",
            "['5/1/2023' '6/15/2023' '7/1/2023' '8/15/2023' '9/10/2023' '10/5/2023'\n",
            " '11/20/2023' '1/5/2024' '2/14/2024' '3/10/2024' '4/1/2024' '5/15/2024'\n",
            " '6/10/2024' '7/1/2024' '8/20/2024' '9/5/2024' '9/1/2023' '7/22/2023'\n",
            " '12/5/2023' '11/1/2023' '9/15/2023' '12/22/2023' '8/1/2023' '10/20/2023'\n",
            " '5/10/2022' '6/15/2022' '7/2/2022' '8/20/2022' '9/5/2022' '10/12/2022'\n",
            " '11/8/2022' '1/5/2023' '2/14/2023' '3/23/2023' '4/19/2023' '6/12/2022'\n",
            " '1/2/2023' '12/10/2022' '11/20/2022' '3/5/2023' '8/18/2023' '9/15/2022'\n",
            " '7/10/2022' '6/20/2023' '10/10/2023' '11/5/2023' '12/24/2023' '1/15/2024'\n",
            " '2/1/2024' '3/15/2024' '4/5/2024' '5/10/2024' '6/20/2024' '7/15/2024'\n",
            " '7/12/2022' '9/3/2022' '1/7/2023' '6/23/2023' '5/6/2024' '7/20/2024'\n",
            " '9/8/2024' '2/14/2025' '5/21/2025' '8/5/2022' '1/1/2023' '4/15/2023'\n",
            " '6/7/2023' '11/12/2023' '2/5/2024' '1/1/2025' '6/15/2021' '7/1/2021'\n",
            " '8/10/2021' '9/1/2021' '10/15/2021' '11/20/2021' '1/1/2022' '2/14/2022'\n",
            " '3/10/2022' '4/15/2022' '5/1/2022' '9/1/2022' '11/23/2022' '5/8/2023'\n",
            " '8/20/2023' '1/6/2024' '4/3/2024' '7/22/2024' '10/10/2024' '5/15/2022'\n",
            " '6/20/2022' '8/12/2022' '7/1/2022' '6/10/2022' '7/15/2022' '8/25/2022'\n",
            " '9/10/2022' '2/5/2022' '3/15/2022' '7/20/2022' '8/8/2022' '9/20/2022'\n",
            " '10/5/2022' '11/11/2022' '12/24/2022' '2/10/2023' '5/15/2023' '6/1/2023'\n",
            " '7/15/2023' '10/1/2023']\n",
            "\n",
            "\n",
            "Column name: End date\n",
            "['5/8/2023' '6/20/2023' '7/8/2023' '8/29/2023' '9/17/2023' '10/10/2023'\n",
            " '11/30/2023' '1/12/2024' '2/21/2024' '3/17/2024' '4/8/2024' '5/22/2024'\n",
            " '6/18/2024' '7/10/2024' '8/27/2024' '9/12/2024' '9/10/2023' '8/25/2023'\n",
            " '7/28/2023' '10/15/2023' '11/25/2023' '12/12/2023' '11/8/2023'\n",
            " '9/23/2023' '12/28/2023' '8/10/2023' '10/28/2023' '5/18/2022' '6/22/2022'\n",
            " '7/11/2022' '9/2/2022' '9/14/2022' '10/20/2022' '11/15/2022' '1/15/2023'\n",
            " '2/20/2023' '3/31/2023' '4/26/2023' '6/19/2022' '1/9/2023' '12/18/2022'\n",
            " '11/27/2022' '3/12/2023' '9/22/2022' '5/7/2023' '7/17/2022' '6/28/2023'\n",
            " '8/22/2023' '10/20/2023' '11/12/2023' '12/31/2023' '1/24/2024' '2/9/2024'\n",
            " '3/23/2024' '4/13/2024' '5/18/2024' '6/27/2024' '7/23/2024' '7/18/2022'\n",
            " '9/10/2022' '1/16/2023' '6/29/2023' '2/8/2024' '5/12/2024' '7/26/2024'\n",
            " '9/16/2024' '2/20/2025' '5/29/2025' '8/12/2022' '4/22/2023' '6/14/2023'\n",
            " '11/19/2023' '2/12/2024' '1/8/2025' '6/20/2021' '7/10/2021' '8/20/2021'\n",
            " '9/10/2021' '10/20/2021' '11/30/2021' '1/8/2022' '2/20/2022' '3/20/2022'\n",
            " '4/25/2022' '5/10/2022' '6/20/2022' '12/2/2022' '2/19/2023' '5/14/2023'\n",
            " '8/27/2023' '11/20/2023' '1/14/2024' '4/10/2024' '7/28/2024' '10/17/2024'\n",
            " '5/20/2022' '6/25/2022' '8/20/2022' '7/10/2022' '6/15/2022' '9/12/2022'\n",
            " '5/8/2022' '7/22/2022' '8/30/2022' '9/15/2022' '2/14/2022' '3/22/2022'\n",
            " '5/12/2022' '6/17/2022' '7/30/2022' '8/16/2022' '9/30/2022' '10/13/2022'\n",
            " '11/21/2022' '1/1/2023' '2/18/2023' '5/22/2023' '6/10/2023' '6/21/2023'\n",
            " '7/22/2023' '8/21/2023' '9/8/2023' '9/22/2023' '10/8/2023']\n",
            "\n",
            "\n",
            "Column name: Duration (days)\n",
            "[ 7.  5. 14. 10.  8.  9.  6. 13. 11.]\n",
            "\n",
            "\n",
            "Column name: Traveler name\n",
            "['John Smith' 'Jane Doe' 'David Lee' 'Sarah Johnson' 'Kim Nguyen'\n",
            " 'Michael Brown' 'Emily Davis' 'Lucas Santos' 'Laura Janssen'\n",
            " 'Mohammed Ali' 'Ana Hernandez' 'Carlos Garcia' 'Lily Wong' 'Hans Mueller'\n",
            " 'Fatima Khouri' 'James MacKenzie' 'Michael Chang' 'Olivia Rodriguez'\n",
            " 'Kenji Nakamura' 'Emily Lee' 'James Wilson' 'Sofia Russo' 'Raj Patel'\n",
            " 'Lily Nguyen' 'David Kim' 'Maria Garcia' 'Alice Smith' 'Bob Johnson'\n",
            " 'Charlie Lee' 'Emma Davis' 'Olivia Martin' 'Harry Wilson' 'Sophia Lee'\n",
            " 'James Brown' 'Mia Johnson' 'William Davis' 'Amelia Brown' 'Adam Lee'\n",
            " 'Sarah Wong' 'Maria Silva' 'Peter Brown' 'Emma Garcia' 'Michael Davis'\n",
            " 'Nina Patel' 'Kevin Kim' 'Laura van den Berg' 'Jennifer Nguyen'\n",
            " 'Rachel Lee' 'Jessica Wong' 'Felipe Almeida' 'Nisa Patel' 'Ben Smith'\n",
            " 'Laura Gomez' 'Park Min Woo' 'Michael Chen' 'Sofia Rossi'\n",
            " 'Rachel Sanders' 'Emily Watson' 'Ana Rodriguez' 'Tom Wilson'\n",
            " 'Olivia Green' 'James Chen' 'Lila Patel' 'Marco Rossi' 'Sarah Brown'\n",
            " 'Sarah Lee' 'Alex Kim' 'Maria Hernandez' 'Mark Johnson' 'Amanda Chen'\n",
            " 'Nana Kwon' 'Tom Hanks' 'Emma Watson' 'Fatima Ahmed' 'Liam Nguyen'\n",
            " 'Giulia Rossi' 'Putra Wijaya' 'Kim Min-ji' 'Emily Johnson' 'Michael Wong'\n",
            " 'Jessica Chen' 'Ken Tanaka' 'Rodrigo Oliveira' 'Olivia Kim'\n",
            " 'Robert Mueller' 'Lisa Chen' 'Emily Wong' 'Mark Tan' 'Emma Lee'\n",
            " 'George Chen' 'Sophia Kim' 'Alex Ng' 'Cindy Chen' 'Emily Kim' 'Frank Li'\n",
            " 'Gina Lee' 'Henry Kim' 'Isabella Chen' 'Jack Smith' 'Katie Johnson'\n",
            " 'John Doe' 'Jane Smith' 'Michael Johnson' 'Jose Perez' 'Emma Wilson'\n",
            " 'Ryan Chen' 'Sofia Rodriguez' 'William Brown']\n",
            "\n",
            "\n",
            "Column name: Traveler age\n",
            "[35. 28. 45. 29. 26. 42. 33. 25. 31. 39. 27. 36. 48. 32. 30. 40. 24. 34.\n",
            " 20. 37. 38. 55. 41. 23. 43. 46. 60. 50. 47.]\n",
            "\n",
            "\n",
            "Column name: Traveler gender\n",
            "['Male' 'Female']\n",
            "\n",
            "\n",
            "Column name: Traveler nationality\n",
            "['American' 'Canadian' 'Korean' 'British' 'Vietnamese' 'Australian'\n",
            " 'Brazilian' 'Dutch' 'Emirati' 'Mexican' 'Spanish' 'Chinese' 'German'\n",
            " 'Moroccan' 'Scottish' 'Japanese' 'Italian' 'Indian' 'South Korean'\n",
            " 'French' 'South African' 'Taiwanese' 'Indonesian' 'USA' 'Canada'\n",
            " 'South Korea' 'UK' 'China' 'Taiwan' 'Japan' 'Spain' 'Brazil' 'Germany'\n",
            " 'Hong Kong' 'United Kingdom' 'Singapore' 'Italy' 'Greece'\n",
            " 'United Arab Emirates' 'Cambodia' 'New Zealander']\n",
            "\n",
            "\n",
            "Column name: Accommodation type\n",
            "['Hotel' 'Resort' 'Villa' 'Airbnb' 'Hostel' 'Riad' 'Vacation rental'\n",
            " 'Guesthouse']\n",
            "\n",
            "\n",
            "Column name: Accommodation cost\n",
            "['1200' '800' '1000' '2000' '700' '1500' '500' '900' '2500' '3000' '1400'\n",
            " '600' '$900 ' '$1,500 ' '$1,200 ' '$600 ' '$1,000 ' '$700 ' '$400 '\n",
            " '$1,400 ' '$2,000 ' '$1,100 ' '$800 ' '$200 ' '$150 ' '$500 ' '$180 '\n",
            " '$350 ' '2200' '400' '1100' '300' '1300' '1800' '500 USD' '1000 USD'\n",
            " '800 USD' '1200 USD' '400 USD' '600 USD' '900 USD' '1500 USD' '700 USD'\n",
            " '300 USD' '200 USD' '$300 ' '200' '5000' '7000' '6000' '4000' '8000']\n",
            "\n",
            "\n",
            "Column name: Transportation type\n",
            "['Flight' 'Train' 'Plane' 'Bus' 'Car rental' 'Subway' 'Car' 'Ferry'\n",
            " 'Airplane']\n",
            "\n",
            "\n",
            "Column name: Transportation cost\n",
            "['600' '500' '700' '1000' '200' '800' '1200' '100' '400' '150' '$400 '\n",
            " '$700 ' '$150 ' '$800 ' '$100 ' '$600 ' '$80 ' '$500 ' '$300 ' '$50 '\n",
            " '$120 ' '$75 ' '900' '50' '$200 ' '$250 ' '$20 ' '300' '800 USD'\n",
            " '200 USD' '500 USD' '700 USD' '300 USD' '600 USD' '400 USD' '1000 USD'\n",
            " '100 USD' '350 USD' '150 USD' '$1,200 ' '$900 ' '$1,500 ' '$1,000 ' '250'\n",
            " '2500' '1500' '2000' '3000']\n",
            "\n",
            "\n"
          ]
        }
      ]
    },
    {
      "cell_type": "markdown",
      "source": [
        "**The code is splitting the 'Destination' column into two new columns, 'Destination (1)' and 'Destination X', using the separator ', '. The expand parameter is set to True to create two new columns. Then, the code drops the 'Destination X' column and prints the unique values in the 'Destination (1)' column.**"
      ],
      "metadata": {
        "id": "WJvC_QdHY-j3"
      }
    },
    {
      "cell_type": "code",
      "source": [
        "# Separating Destination column into Destination (1) and Destination X\n",
        "df[['Destination (1)', 'Destination X']] = df['Destination'].str.split(', ', expand=True)\n",
        "\n",
        "# Dropping Destination X column\n",
        "df = df.drop(columns=['Destination X'])\n",
        "\n",
        "# Printing unique values in Destination (1) column\n",
        "print(df[\"Destination (1)\"].unique())"
      ],
      "metadata": {
        "execution": {
          "iopub.status.busy": "2023-03-12T19:04:41.746701Z",
          "iopub.execute_input": "2023-03-12T19:04:41.747102Z",
          "iopub.status.idle": "2023-03-12T19:04:41.758513Z",
          "shell.execute_reply.started": "2023-03-12T19:04:41.747067Z",
          "shell.execute_reply": "2023-03-12T19:04:41.756940Z"
        },
        "trusted": true,
        "colab": {
          "base_uri": "https://localhost:8080/"
        },
        "id": "4nS8temsY-j3",
        "outputId": "a975dfb6-2285-4dba-b8bf-6ee79e59ea5b"
      },
      "execution_count": null,
      "outputs": [
        {
          "output_type": "stream",
          "name": "stdout",
          "text": [
            "['London' 'Phuket' 'Bali' 'New York' 'Tokyo' 'Paris' 'Sydney'\n",
            " 'Rio de Janeiro' 'Amsterdam' 'Dubai' 'Cancun' 'Barcelona' 'Honolulu'\n",
            " 'Berlin' 'Marrakech' 'Edinburgh' 'Rome' 'Bangkok' 'Hawaii' 'Japan'\n",
            " 'Thailand' 'France' 'Australia' 'Brazil' 'Greece' 'Egypt' 'Mexico'\n",
            " 'Italy' 'Spain' 'Canada' 'New York City' 'Vancouver' 'Seoul'\n",
            " 'Los Angeles' 'Cape Town' 'Santorini' 'Phnom Penh' 'Athens' 'Auckland']\n"
          ]
        }
      ]
    },
    {
      "cell_type": "markdown",
      "source": [
        "**In the Accommodation cost and Transportation cost columns, there are unnecessary characters such as \"$\", \"USD\", and white spaces. These characters can cause issues when performing calculations or analysis on the data. It is recommended to remove these characters from the columns to ensure the accuracy of the data.**"
      ],
      "metadata": {
        "id": "ZBwzntxGY-j3"
      }
    },
    {
      "cell_type": "code",
      "source": [
        "df['Accommodation cost'] = df['Accommodation cost'].str.replace('$', '')\n",
        "df['Transportation cost'] = df['Transportation cost'].str.replace('$', '')\n",
        "df['Accommodation cost'] = df['Accommodation cost'].str.replace('USD', '')\n",
        "df['Transportation cost'] = df['Transportation cost'].str.replace('USD', '')"
      ],
      "metadata": {
        "execution": {
          "iopub.status.busy": "2023-03-12T19:04:41.759803Z",
          "iopub.execute_input": "2023-03-12T19:04:41.760188Z",
          "iopub.status.idle": "2023-03-12T19:04:41.775311Z",
          "shell.execute_reply.started": "2023-03-12T19:04:41.760153Z",
          "shell.execute_reply": "2023-03-12T19:04:41.773768Z"
        },
        "trusted": true,
        "colab": {
          "base_uri": "https://localhost:8080/"
        },
        "id": "GMy-jt0vY-j3",
        "outputId": "0b2da64d-d918-42ba-9d7b-9670caf81d53"
      },
      "execution_count": null,
      "outputs": [
        {
          "output_type": "stream",
          "name": "stderr",
          "text": [
            "<ipython-input-11-3e2be593ca07>:1: FutureWarning: The default value of regex will change from True to False in a future version. In addition, single character regular expressions will *not* be treated as literal strings when regex=True.\n",
            "  df['Accommodation cost'] = df['Accommodation cost'].str.replace('$', '')\n",
            "<ipython-input-11-3e2be593ca07>:2: FutureWarning: The default value of regex will change from True to False in a future version. In addition, single character regular expressions will *not* be treated as literal strings when regex=True.\n",
            "  df['Transportation cost'] = df['Transportation cost'].str.replace('$', '')\n"
          ]
        }
      ]
    },
    {
      "cell_type": "code",
      "source": [
        "df['Accommodation cost'] = df['Accommodation cost'].apply(lambda x: float(x.strip().replace(',', '')))\n",
        "df['Transportation cost'] = df['Transportation cost'].apply(lambda x: float(x.strip().replace(',', '')))"
      ],
      "metadata": {
        "execution": {
          "iopub.status.busy": "2023-03-12T19:04:41.777081Z",
          "iopub.execute_input": "2023-03-12T19:04:41.777432Z",
          "iopub.status.idle": "2023-03-12T19:04:41.786395Z",
          "shell.execute_reply.started": "2023-03-12T19:04:41.777395Z",
          "shell.execute_reply": "2023-03-12T19:04:41.785020Z"
        },
        "trusted": true,
        "id": "_fRVcNXuY-j4"
      },
      "execution_count": null,
      "outputs": []
    },
    {
      "cell_type": "markdown",
      "source": [
        "**In the \"Transportation type\" column, there are similar items such as \"Flight\", \"Plane\", and \"Airplane\". To simplify the data and avoid redundancy, these items are merged into a single item, \"Airplane\".**"
      ],
      "metadata": {
        "id": "mvy4W5nIY-j4"
      }
    },
    {
      "cell_type": "code",
      "source": [
        "# Replace values in \"Transportation type\" column\n",
        "df[\"Transportation type\"] = df[\"Transportation type\"].replace([\"Flight\", \"Plane\", \"Airplane\"], \"Airplane\")\n",
        "\n",
        "# Display updated dataset\n",
        "print(df.head())"
      ],
      "metadata": {
        "execution": {
          "iopub.status.busy": "2023-03-12T19:04:41.788135Z",
          "iopub.execute_input": "2023-03-12T19:04:41.789104Z",
          "iopub.status.idle": "2023-03-12T19:04:41.806718Z",
          "shell.execute_reply.started": "2023-03-12T19:04:41.789053Z",
          "shell.execute_reply": "2023-03-12T19:04:41.805275Z"
        },
        "trusted": true,
        "colab": {
          "base_uri": "https://localhost:8080/"
        },
        "id": "FOfcb438Y-j4",
        "outputId": "39afe5bb-07f8-4524-cedc-3f32ad5506ff"
      },
      "execution_count": null,
      "outputs": [
        {
          "output_type": "stream",
          "name": "stdout",
          "text": [
            "   Trip ID       Destination Start date   End date  Duration (days)  \\\n",
            "0        1        London, UK   5/1/2023   5/8/2023              7.0   \n",
            "1        2  Phuket, Thailand  6/15/2023  6/20/2023              5.0   \n",
            "2        3   Bali, Indonesia   7/1/2023   7/8/2023              7.0   \n",
            "3        4     New York, USA  8/15/2023  8/29/2023             14.0   \n",
            "4        5      Tokyo, Japan  9/10/2023  9/17/2023              7.0   \n",
            "\n",
            "   Traveler name  Traveler age Traveler gender Traveler nationality  \\\n",
            "0     John Smith          35.0            Male             American   \n",
            "1       Jane Doe          28.0          Female             Canadian   \n",
            "2      David Lee          45.0            Male               Korean   \n",
            "3  Sarah Johnson          29.0          Female              British   \n",
            "4     Kim Nguyen          26.0          Female           Vietnamese   \n",
            "\n",
            "  Accommodation type  Accommodation cost Transportation type  \\\n",
            "0              Hotel              1200.0            Airplane   \n",
            "1             Resort               800.0            Airplane   \n",
            "2              Villa              1000.0            Airplane   \n",
            "3              Hotel              2000.0            Airplane   \n",
            "4             Airbnb               700.0               Train   \n",
            "\n",
            "   Transportation cost Destination (1)  \n",
            "0                600.0          London  \n",
            "1                500.0          Phuket  \n",
            "2                700.0            Bali  \n",
            "3               1000.0        New York  \n",
            "4                200.0           Tokyo  \n"
          ]
        }
      ]
    },
    {
      "cell_type": "markdown",
      "source": [
        "**The 'Accommodation cost' and 'Transportation cost' columns are changed to integer type using the 'astype' function, while the 'Start date' and 'End date' columns are changed to datetime type using the 'pd.to_datetime' function. These changes are important because they allow us to perform numerical and time-based operations on the data, as well as make it easier to analyze the data using various statistical methods.**"
      ],
      "metadata": {
        "id": "uIhrMj4PY-j5"
      }
    },
    {
      "cell_type": "code",
      "source": [
        "# Changing Accommodation cost column to int\n",
        "df['Accommodation cost'] = df['Accommodation cost'].astype(int)\n",
        "\n",
        "# Changing Transportation cost column to int\n",
        "df['Transportation cost'] = df['Transportation cost'].astype(int)\n",
        "\n",
        "# Changing Start date column to datetime type\n",
        "df['Start date'] = pd.to_datetime(df['Start date'])\n",
        "\n",
        "# Changing End date column to datetime type\n",
        "df['End date'] = pd.to_datetime(df['End date'])"
      ],
      "metadata": {
        "execution": {
          "iopub.status.busy": "2023-03-12T19:04:41.808336Z",
          "iopub.execute_input": "2023-03-12T19:04:41.808708Z",
          "iopub.status.idle": "2023-03-12T19:04:41.839651Z",
          "shell.execute_reply.started": "2023-03-12T19:04:41.808671Z",
          "shell.execute_reply": "2023-03-12T19:04:41.838218Z"
        },
        "trusted": true,
        "id": "1TjS3y80Y-j5"
      },
      "execution_count": null,
      "outputs": []
    },
    {
      "cell_type": "markdown",
      "source": [
        "# *Handling duplicates*"
      ],
      "metadata": {
        "id": "UFmEaFLsY-j5"
      }
    },
    {
      "cell_type": "code",
      "source": [
        "duplicate_rows = df[df.duplicated()]\n",
        "print(\"Number of duplicate rows:\", duplicate_rows.shape[0])"
      ],
      "metadata": {
        "execution": {
          "iopub.status.busy": "2023-03-12T19:04:41.842115Z",
          "iopub.execute_input": "2023-03-12T19:04:41.842533Z",
          "iopub.status.idle": "2023-03-12T19:04:41.860591Z",
          "shell.execute_reply.started": "2023-03-12T19:04:41.842488Z",
          "shell.execute_reply": "2023-03-12T19:04:41.859314Z"
        },
        "trusted": true,
        "colab": {
          "base_uri": "https://localhost:8080/"
        },
        "id": "UylvfA_1Y-j5",
        "outputId": "caeb5bff-aaee-4b4f-f737-1b31af9bdcb3"
      },
      "execution_count": null,
      "outputs": [
        {
          "output_type": "stream",
          "name": "stdout",
          "text": [
            "Number of duplicate rows: 0\n"
          ]
        }
      ]
    },
    {
      "cell_type": "markdown",
      "source": [
        "# **Descriptive Analysis**"
      ],
      "metadata": {
        "id": "W2IP90TdY-j6"
      }
    },
    {
      "cell_type": "code",
      "source": [
        "df.describe()"
      ],
      "metadata": {
        "execution": {
          "iopub.status.busy": "2023-03-12T19:04:41.864771Z",
          "iopub.execute_input": "2023-03-12T19:04:41.865218Z",
          "iopub.status.idle": "2023-03-12T19:04:41.894566Z",
          "shell.execute_reply.started": "2023-03-12T19:04:41.865180Z",
          "shell.execute_reply": "2023-03-12T19:04:41.893317Z"
        },
        "trusted": true,
        "colab": {
          "base_uri": "https://localhost:8080/"
        },
        "id": "0gm45MoeY-j6",
        "outputId": "343246d4-1566-450c-c7d9-71c3250d2182"
      },
      "execution_count": null,
      "outputs": [
        {
          "output_type": "execute_result",
          "data": {
            "text/plain": [
              "          Trip ID  Duration (days)  Traveler age  Accommodation cost  \\\n",
              "count  136.000000       136.000000    136.000000          136.000000   \n",
              "mean    69.463235         7.610294     33.117647         1253.529412   \n",
              "std     40.388284         1.606343      7.139933         1338.644162   \n",
              "min      1.000000         5.000000     20.000000          150.000000   \n",
              "25%     34.750000         7.000000     28.000000          600.000000   \n",
              "50%     68.500000         7.000000     31.000000          900.000000   \n",
              "75%    104.250000         8.000000     37.250000         1200.000000   \n",
              "max    139.000000        14.000000     60.000000         8000.000000   \n",
              "\n",
              "       Transportation cost  \n",
              "count           136.000000  \n",
              "mean            645.183824  \n",
              "std             584.476153  \n",
              "min              20.000000  \n",
              "25%             200.000000  \n",
              "50%             550.000000  \n",
              "75%             800.000000  \n",
              "max            3000.000000  "
            ],
            "text/html": [
              "\n",
              "  <div id=\"df-d6087b87-85d0-4f4f-985b-bb33405b5ba0\">\n",
              "    <div class=\"colab-df-container\">\n",
              "      <div>\n",
              "<style scoped>\n",
              "    .dataframe tbody tr th:only-of-type {\n",
              "        vertical-align: middle;\n",
              "    }\n",
              "\n",
              "    .dataframe tbody tr th {\n",
              "        vertical-align: top;\n",
              "    }\n",
              "\n",
              "    .dataframe thead th {\n",
              "        text-align: right;\n",
              "    }\n",
              "</style>\n",
              "<table border=\"1\" class=\"dataframe\">\n",
              "  <thead>\n",
              "    <tr style=\"text-align: right;\">\n",
              "      <th></th>\n",
              "      <th>Trip ID</th>\n",
              "      <th>Duration (days)</th>\n",
              "      <th>Traveler age</th>\n",
              "      <th>Accommodation cost</th>\n",
              "      <th>Transportation cost</th>\n",
              "    </tr>\n",
              "  </thead>\n",
              "  <tbody>\n",
              "    <tr>\n",
              "      <th>count</th>\n",
              "      <td>136.000000</td>\n",
              "      <td>136.000000</td>\n",
              "      <td>136.000000</td>\n",
              "      <td>136.000000</td>\n",
              "      <td>136.000000</td>\n",
              "    </tr>\n",
              "    <tr>\n",
              "      <th>mean</th>\n",
              "      <td>69.463235</td>\n",
              "      <td>7.610294</td>\n",
              "      <td>33.117647</td>\n",
              "      <td>1253.529412</td>\n",
              "      <td>645.183824</td>\n",
              "    </tr>\n",
              "    <tr>\n",
              "      <th>std</th>\n",
              "      <td>40.388284</td>\n",
              "      <td>1.606343</td>\n",
              "      <td>7.139933</td>\n",
              "      <td>1338.644162</td>\n",
              "      <td>584.476153</td>\n",
              "    </tr>\n",
              "    <tr>\n",
              "      <th>min</th>\n",
              "      <td>1.000000</td>\n",
              "      <td>5.000000</td>\n",
              "      <td>20.000000</td>\n",
              "      <td>150.000000</td>\n",
              "      <td>20.000000</td>\n",
              "    </tr>\n",
              "    <tr>\n",
              "      <th>25%</th>\n",
              "      <td>34.750000</td>\n",
              "      <td>7.000000</td>\n",
              "      <td>28.000000</td>\n",
              "      <td>600.000000</td>\n",
              "      <td>200.000000</td>\n",
              "    </tr>\n",
              "    <tr>\n",
              "      <th>50%</th>\n",
              "      <td>68.500000</td>\n",
              "      <td>7.000000</td>\n",
              "      <td>31.000000</td>\n",
              "      <td>900.000000</td>\n",
              "      <td>550.000000</td>\n",
              "    </tr>\n",
              "    <tr>\n",
              "      <th>75%</th>\n",
              "      <td>104.250000</td>\n",
              "      <td>8.000000</td>\n",
              "      <td>37.250000</td>\n",
              "      <td>1200.000000</td>\n",
              "      <td>800.000000</td>\n",
              "    </tr>\n",
              "    <tr>\n",
              "      <th>max</th>\n",
              "      <td>139.000000</td>\n",
              "      <td>14.000000</td>\n",
              "      <td>60.000000</td>\n",
              "      <td>8000.000000</td>\n",
              "      <td>3000.000000</td>\n",
              "    </tr>\n",
              "  </tbody>\n",
              "</table>\n",
              "</div>\n",
              "      <button class=\"colab-df-convert\" onclick=\"convertToInteractive('df-d6087b87-85d0-4f4f-985b-bb33405b5ba0')\"\n",
              "              title=\"Convert this dataframe to an interactive table.\"\n",
              "              style=\"display:none;\">\n",
              "        \n",
              "  <svg xmlns=\"http://www.w3.org/2000/svg\" height=\"24px\"viewBox=\"0 0 24 24\"\n",
              "       width=\"24px\">\n",
              "    <path d=\"M0 0h24v24H0V0z\" fill=\"none\"/>\n",
              "    <path d=\"M18.56 5.44l.94 2.06.94-2.06 2.06-.94-2.06-.94-.94-2.06-.94 2.06-2.06.94zm-11 1L8.5 8.5l.94-2.06 2.06-.94-2.06-.94L8.5 2.5l-.94 2.06-2.06.94zm10 10l.94 2.06.94-2.06 2.06-.94-2.06-.94-.94-2.06-.94 2.06-2.06.94z\"/><path d=\"M17.41 7.96l-1.37-1.37c-.4-.4-.92-.59-1.43-.59-.52 0-1.04.2-1.43.59L10.3 9.45l-7.72 7.72c-.78.78-.78 2.05 0 2.83L4 21.41c.39.39.9.59 1.41.59.51 0 1.02-.2 1.41-.59l7.78-7.78 2.81-2.81c.8-.78.8-2.07 0-2.86zM5.41 20L4 18.59l7.72-7.72 1.47 1.35L5.41 20z\"/>\n",
              "  </svg>\n",
              "      </button>\n",
              "      \n",
              "  <style>\n",
              "    .colab-df-container {\n",
              "      display:flex;\n",
              "      flex-wrap:wrap;\n",
              "      gap: 12px;\n",
              "    }\n",
              "\n",
              "    .colab-df-convert {\n",
              "      background-color: #E8F0FE;\n",
              "      border: none;\n",
              "      border-radius: 50%;\n",
              "      cursor: pointer;\n",
              "      display: none;\n",
              "      fill: #1967D2;\n",
              "      height: 32px;\n",
              "      padding: 0 0 0 0;\n",
              "      width: 32px;\n",
              "    }\n",
              "\n",
              "    .colab-df-convert:hover {\n",
              "      background-color: #E2EBFA;\n",
              "      box-shadow: 0px 1px 2px rgba(60, 64, 67, 0.3), 0px 1px 3px 1px rgba(60, 64, 67, 0.15);\n",
              "      fill: #174EA6;\n",
              "    }\n",
              "\n",
              "    [theme=dark] .colab-df-convert {\n",
              "      background-color: #3B4455;\n",
              "      fill: #D2E3FC;\n",
              "    }\n",
              "\n",
              "    [theme=dark] .colab-df-convert:hover {\n",
              "      background-color: #434B5C;\n",
              "      box-shadow: 0px 1px 3px 1px rgba(0, 0, 0, 0.15);\n",
              "      filter: drop-shadow(0px 1px 2px rgba(0, 0, 0, 0.3));\n",
              "      fill: #FFFFFF;\n",
              "    }\n",
              "  </style>\n",
              "\n",
              "      <script>\n",
              "        const buttonEl =\n",
              "          document.querySelector('#df-d6087b87-85d0-4f4f-985b-bb33405b5ba0 button.colab-df-convert');\n",
              "        buttonEl.style.display =\n",
              "          google.colab.kernel.accessAllowed ? 'block' : 'none';\n",
              "\n",
              "        async function convertToInteractive(key) {\n",
              "          const element = document.querySelector('#df-d6087b87-85d0-4f4f-985b-bb33405b5ba0');\n",
              "          const dataTable =\n",
              "            await google.colab.kernel.invokeFunction('convertToInteractive',\n",
              "                                                     [key], {});\n",
              "          if (!dataTable) return;\n",
              "\n",
              "          const docLinkHtml = 'Like what you see? Visit the ' +\n",
              "            '<a target=\"_blank\" href=https://colab.research.google.com/notebooks/data_table.ipynb>data table notebook</a>'\n",
              "            + ' to learn more about interactive tables.';\n",
              "          element.innerHTML = '';\n",
              "          dataTable['output_type'] = 'display_data';\n",
              "          await google.colab.output.renderOutput(dataTable, element);\n",
              "          const docLink = document.createElement('div');\n",
              "          docLink.innerHTML = docLinkHtml;\n",
              "          element.appendChild(docLink);\n",
              "        }\n",
              "      </script>\n",
              "    </div>\n",
              "  </div>\n",
              "  "
            ]
          },
          "metadata": {},
          "execution_count": 16
        }
      ]
    },
    {
      "cell_type": "code",
      "source": [
        "fig, axs = plt.subplots(2, 2, figsize=(14, 8))\n",
        "axs = axs.flatten()\n",
        "\n",
        "# Creating boxplot for Duration (days) column\n",
        "sns.boxplot(x=df['Duration (days)'], ax=axs[0], color='lightblue')\n",
        "axs[0].set_title('Boxplot Duration (days)')\n",
        "\n",
        "# Creating boxplot for Traveler age column\n",
        "sns.boxplot(x=df['Traveler age'], ax=axs[1], color='pink')\n",
        "axs[1].set_title('Boxplot Traveler age')\n",
        "\n",
        "# Creating boxplot for Accommodation cost column\n",
        "sns.boxplot(x=df['Accommodation cost'], ax=axs[2], color='lightgreen')\n",
        "axs[2].set_title('Boxplot Accommodation cost')\n",
        "\n",
        "# Creating boxplot for Transportation cost column\n",
        "sns.boxplot(x=df['Transportation cost'], ax=axs[3], color='orange')\n",
        "axs[3].set_title('Boxplot Transportation cost')\n",
        "\n",
        "# Adjusting layout and displaying plot\n",
        "plt.tight_layout()\n",
        "plt.show()\n"
      ],
      "metadata": {
        "execution": {
          "iopub.status.busy": "2023-03-12T19:04:41.895830Z",
          "iopub.execute_input": "2023-03-12T19:04:41.896177Z",
          "iopub.status.idle": "2023-03-12T19:04:42.651469Z",
          "shell.execute_reply.started": "2023-03-12T19:04:41.896144Z",
          "shell.execute_reply": "2023-03-12T19:04:42.649147Z"
        },
        "trusted": true,
        "colab": {
          "base_uri": "https://localhost:8080/",
          "height": 581
        },
        "id": "Gqs0ZddkY-j6",
        "outputId": "09c4af17-17e7-48a2-d2b5-cfc3e46acc23"
      },
      "execution_count": null,
      "outputs": [
        {
          "output_type": "display_data",
          "data": {
            "text/plain": [
              "<Figure size 1008x576 with 4 Axes>"
            ],
            "image/png": "[encoded data removed]"
          },
          "metadata": {}
        }
      ]
    },
    {
      "cell_type": "markdown",
      "source": [
        "**Outliers were found in the boxplots of Duration (days), Traveler age, Accommodation cost, and Transportation cost. However, they were not removed as they are still relevant to the analysis.**"
      ],
      "metadata": {
        "id": "GXxPHC0_Y-j6"
      }
    },
    {
      "cell_type": "markdown",
      "source": [
        "# **Data Visualization**"
      ],
      "metadata": {
        "id": "Ju7qG1SgY-j6"
      }
    },
    {
      "cell_type": "markdown",
      "source": [
        "# *What are the most frequently visited cities and countries by tourists?*"
      ],
      "metadata": {
        "id": "dEq3ZqbUY-j6"
      }
    },
    {
      "cell_type": "code",
      "source": [
        "# count the number of visits to each destination\n",
        "destination_count = df['Destination (1)'].value_counts().head(10)\n",
        "\n",
        "# create a bar chart\n",
        "plt.figure(figsize=(12, 6))\n",
        "plt.bar(destination_count.index, destination_count.values, color=['#3498db', '#2ecc71', '#f1c40f', '#e74c3c', '#9b59b6', '#1abc9c', '#e67e22', '#95a5a6', '#34495e', '#d35400'])\n",
        "plt.title('Top 10 Most Visited Destinations', fontsize=14, fontweight='bold')\n",
        "plt.xlabel('Destination', fontsize=12)\n",
        "plt.ylabel('Number of Travelers', fontsize=12)\n",
        "plt.xticks(rotation=45, ha='right', fontsize=10)\n",
        "plt.yticks(fontsize=10)\n",
        "plt.tight_layout()\n",
        "plt.show()"
      ],
      "metadata": {
        "execution": {
          "iopub.status.busy": "2023-03-12T19:04:42.655620Z",
          "iopub.execute_input": "2023-03-12T19:04:42.656446Z",
          "iopub.status.idle": "2023-03-12T19:04:43.021121Z",
          "shell.execute_reply.started": "2023-03-12T19:04:42.656401Z",
          "shell.execute_reply": "2023-03-12T19:04:43.019892Z"
        },
        "trusted": true,
        "colab": {
          "base_uri": "https://localhost:8080/",
          "height": 437
        },
        "id": "JzBuxz_ZY-j6",
        "outputId": "be4c2a18-74d7-47f8-a0ea-25354da0c156"
      },
      "execution_count": null,
      "outputs": [
        {
          "output_type": "display_data",
          "data": {
            "text/plain": [
              "<Figure size 864x432 with 1 Axes>"
            ],
            "image/png": "[encoded data removed]"
          },
          "metadata": {}
        }
      ]
    },
    {
      "cell_type": "markdown",
      "source": [
        "**Top 10 most visited destinations are Paris, Bali, Tokyo, Sydney, New York, Bangkok, Rome, London, Barcelona, and Rio de Janeiro.** \n",
        "It is recommended to provide unique and interesting tour packages to these destinations to differentiate from other competitors and offer a more memorable experience to customers. \n",
        "Additionally, travel agencies can also explore new destinations that are up-and-coming to offer something new and exciting to travelers."
      ],
      "metadata": {
        "id": "q-i1fDopY-j7"
      }
    },
    {
      "cell_type": "markdown",
      "source": [
        "# *What is the distribution of age among travelers?*"
      ],
      "metadata": {
        "id": "7q17V8JvY-j7"
      }
    },
    {
      "cell_type": "code",
      "source": [
        "plt.figure(figsize=(12,6))\n",
        "sns.histplot(data=df, x='Traveler age', bins=20, color='blue')\n",
        "plt.xlabel('Age')\n",
        "plt.ylabel('Count')\n",
        "plt.title('Age Distribution', fontweight = 'bold')\n",
        "sns.despine()\n",
        "plt.show()"
      ],
      "metadata": {
        "execution": {
          "iopub.status.busy": "2023-03-12T19:04:43.022907Z",
          "iopub.execute_input": "2023-03-12T19:04:43.023442Z",
          "iopub.status.idle": "2023-03-12T19:04:43.357397Z",
          "shell.execute_reply.started": "2023-03-12T19:04:43.023406Z",
          "shell.execute_reply": "2023-03-12T19:04:43.356506Z"
        },
        "trusted": true,
        "colab": {
          "base_uri": "https://localhost:8080/",
          "height": 410
        },
        "id": "1LuxfNNTY-j7",
        "outputId": "17f027fc-5c03-4111-fa3c-e0acd4b9f6ab"
      },
      "execution_count": null,
      "outputs": [
        {
          "output_type": "display_data",
          "data": {
            "text/plain": [
              "<Figure size 864x432 with 1 Axes>"
            ],
            "image/png": "[encoded data removed]"
          },
          "metadata": {}
        }
      ]
    },
    {
      "cell_type": "markdown",
      "source": [
        "**From the histogram, we can see that the most common age range of travelers is between 25-35 years old, followed by travelers between 35-45 years old.** \n",
        "This indicates that the majority of travelers are in their prime working years and may have more disposable income to spend on travel. \n",
        "Travel agencies can use this information to tailor their packages and marketing efforts to appeal to this age group. \n",
        "Additionally, the information can be useful for accommodations, activities, and attractions that are more popular with this age group."
      ],
      "metadata": {
        "id": "Z_BscbbLY-j7"
      }
    },
    {
      "cell_type": "markdown",
      "source": [
        "# *What is the distribution of gender among the travelers?*"
      ],
      "metadata": {
        "id": "84GulenXY-j7"
      }
    },
    {
      "cell_type": "code",
      "source": [
        "# Group by gender and count number of travelers\n",
        "gender_counts = df.groupby('Traveler gender')['Traveler name'].count()\n",
        "\n",
        "# Create pie chart\n",
        "plt.figure(figsize=(12, 6))\n",
        "plt.pie(gender_counts, labels=gender_counts.index, autopct='%1.1f%%', startangle=90, counterclock=False, colors=sns.color_palette('pastel'))\n",
        "plt.title('Traveler Gender Distribution', fontsize=16, fontweight='bold')\n",
        "plt.legend(loc='best')\n",
        "plt.tight_layout()\n",
        "plt.show()"
      ],
      "metadata": {
        "execution": {
          "iopub.status.busy": "2023-03-12T19:04:43.358536Z",
          "iopub.execute_input": "2023-03-12T19:04:43.359593Z",
          "iopub.status.idle": "2023-03-12T19:04:43.681530Z",
          "shell.execute_reply.started": "2023-03-12T19:04:43.359553Z",
          "shell.execute_reply": "2023-03-12T19:04:43.680381Z"
        },
        "trusted": true,
        "colab": {
          "base_uri": "https://localhost:8080/"
        },
        "id": "1t8Jub8IY-j7",
        "outputId": "4d11afb7-18a6-4687-fcf5-20c88caa9588"
      },
      "execution_count": null,
      "outputs": [
        {
          "output_type": "display_data",
          "data": {
            "text/plain": [
              "<Figure size 864x432 with 1 Axes>"
            ],
            "image/png": "[encoded data removed]"
          },
          "metadata": {}
        }
      ]
    },
    {
      "cell_type": "markdown",
      "source": [
        "**The visualization shows the gender distribution of travelers, where 51.5% are female and 48.5% are male.** \n",
        "This indicates that there is a relatively balanced distribution of genders among the travelers. \n",
        "Travel agencies and service providers can use this information to tailor their marketing and services to cater to the needs and preferences of both male and female travelers."
      ],
      "metadata": {
        "id": "8orii0bAY-j8"
      }
    },
    {
      "cell_type": "markdown",
      "source": [
        "# *What is the distribution of trips by year, month, and day of week for the travelers?*"
      ],
      "metadata": {
        "id": "Axet0R3dY-j8"
      }
    },
    {
      "cell_type": "code",
      "source": [
        "# Extract year from start date\n",
        "df['Year'] = df['Start date'].dt.year\n",
        "\n",
        "# Count number of trips per year\n",
        "yearly_trips = df.groupby('Year')['Trip ID'].count()\n",
        "\n",
        "# Set plot style and colors\n",
        "plt.figure(figsize=(12, 6))\n",
        "plt.style.use('seaborn')\n",
        "colors = ['purple']\n",
        "plt.plot(yearly_trips.index, yearly_trips.values, color=colors[0])\n",
        "plt.xlabel('Year')\n",
        "plt.ylabel('Number of trips')\n",
        "plt.title('Number of trips per year', fontweight='bold')\n",
        "plt.grid(True, alpha=0.3)\n",
        "plt.xticks(yearly_trips.index, rotation=45)\n",
        "plt.yticks(range(0, max(yearly_trips.values)+10, 10))\n",
        "plt.show()\n"
      ],
      "metadata": {
        "execution": {
          "iopub.status.busy": "2023-03-12T19:04:43.684158Z",
          "iopub.execute_input": "2023-03-12T19:04:43.684805Z",
          "iopub.status.idle": "2023-03-12T19:04:43.938110Z",
          "shell.execute_reply.started": "2023-03-12T19:04:43.684738Z",
          "shell.execute_reply": "2023-03-12T19:04:43.936808Z"
        },
        "trusted": true,
        "colab": {
          "base_uri": "https://localhost:8080/"
        },
        "id": "twhQZV9XY-j8",
        "outputId": "fd17040e-90e4-455b-e36d-a502e7aa081c"
      },
      "execution_count": null,
      "outputs": [
        {
          "output_type": "display_data",
          "data": {
            "text/plain": [
              "<Figure size 864x432 with 1 Axes>"
            ],
            "image/png": "[encoded data removed]"
          },
          "metadata": {}
        }
      ]
    },
    {
      "cell_type": "markdown",
      "source": [
        "**The data reveals that the highest year of trips is 2023, and then the number of trips decreases gradually until 2025.** \n",
        "This could be due to several factors such as economic downturns, changes in travel trends, or other global events that affect the tourism industry. \n",
        "It is important for travel agencies and businesses to monitor these trends and adjust their strategies accordingly to stay competitive in the market. \n",
        "Travel agencies can also consider offering incentives or discounts during off-peak seasons to attract more customers."
      ],
      "metadata": {
        "id": "DK0LnvaZY-j8"
      }
    },
    {
      "cell_type": "code",
      "source": [
        "# Extract month from start date and sort by month number\n",
        "df['Month'] = df['Start date'].dt.month\n",
        "df = df.sort_values('Month')\n",
        "\n",
        "# Create a list of month names in order\n",
        "months = ['January', 'February', 'March', 'April', 'May', 'June', 'July', 'August', 'September', 'October', 'November', 'December']\n",
        "\n",
        "# Count number of trips per month\n",
        "monthly_trips = df.groupby('Month')['Trip ID'].count()\n",
        "\n",
        "fig, ax = plt.subplots(figsize=(12,6))\n",
        "colors = ['orange', 'green', 'blue', 'purple', 'red', 'pink', 'brown', 'gray', 'teal', 'olive', 'navy', 'maroon']\n",
        "ax.bar(months, monthly_trips.values, color=colors)\n",
        "ax.grid(axis='y')\n",
        "ax.set_xlabel('Month', fontsize=12)\n",
        "ax.set_ylabel('Number of trips', fontsize=12)\n",
        "ax.set_title('Number of trips per month', fontsize=14, fontweight='bold')\n",
        "ax.tick_params(axis='x', rotation=45)\n",
        "plt.show()"
      ],
      "metadata": {
        "execution": {
          "iopub.status.busy": "2023-03-12T19:04:43.939449Z",
          "iopub.execute_input": "2023-03-12T19:04:43.939771Z",
          "iopub.status.idle": "2023-03-12T19:04:44.204925Z",
          "shell.execute_reply.started": "2023-03-12T19:04:43.939739Z",
          "shell.execute_reply": "2023-03-12T19:04:44.203573Z"
        },
        "trusted": true,
        "colab": {
          "base_uri": "https://localhost:8080/",
          "height": 439
        },
        "id": "C9quedcDY-j8",
        "outputId": "100e7871-ff52-4307-d38f-5b6d84b94de5"
      },
      "execution_count": null,
      "outputs": [
        {
          "output_type": "display_data",
          "data": {
            "text/plain": [
              "<Figure size 864x432 with 1 Axes>"
            ],
            "image/png": "[encoded data removed]"
          },
          "metadata": {}
        }
      ]
    },
    {
      "cell_type": "markdown",
      "source": [
        "**August and September are the busiest months for trips**, likely due to summer vacation in many parts of the world. **May, June, and July are also busy months for travel**, as they are also part of the summer season in many countries. **November and February** are popular months for travel as well, likely due to holidays and winter vacations. However, it's important to note that the specific reasons for travel and the busiest months may vary depending on the destination and the preferences of travelers."
      ],
      "metadata": {
        "id": "gfvjeQTkY-j9"
      }
    },
    {
      "cell_type": "code",
      "source": [
        "# Extract day of week from start date and set it as categorical variable\n",
        "day_order = ['Monday', 'Tuesday', 'Wednesday', 'Thursday', 'Friday', 'Saturday', 'Sunday']\n",
        "df['Day of Week'] = pd.Categorical(df['Start date'].dt.day_name(), categories=day_order, ordered=True)\n",
        "\n",
        "# Count number of trips per day of week\n",
        "daily_trips = df.groupby('Day of Week')['Trip ID'].count()\n",
        "\n",
        "colors = sns.color_palette('bright')\n",
        "fig, ax = plt.subplots(figsize=(12,6))\n",
        "sns.barplot(x=daily_trips.index, y=daily_trips.values, palette=colors, ax=ax)\n",
        "ax.set_xlabel('Day of Week', fontsize=14)\n",
        "ax.set_ylabel('Number of trips', fontsize=14)\n",
        "ax.set_title('Number of trips per day of week', fontsize=18, fontweight ='bold')\n",
        "ax.tick_params(axis='x', rotation=45)\n",
        "plt.show()"
      ],
      "metadata": {
        "execution": {
          "iopub.status.busy": "2023-03-12T19:04:44.206421Z",
          "iopub.execute_input": "2023-03-12T19:04:44.206755Z",
          "iopub.status.idle": "2023-03-12T19:04:44.438868Z",
          "shell.execute_reply.started": "2023-03-12T19:04:44.206722Z",
          "shell.execute_reply": "2023-03-12T19:04:44.437425Z"
        },
        "trusted": true,
        "colab": {
          "base_uri": "https://localhost:8080/",
          "height": 445
        },
        "id": "guLn1eFcY-j9",
        "outputId": "5880ac0b-be54-4792-a6a5-d708ddcb5a8f"
      },
      "execution_count": null,
      "outputs": [
        {
          "output_type": "display_data",
          "data": {
            "text/plain": [
              "<Figure size 864x432 with 1 Axes>"
            ],
            "image/png": "[encoded data removed]"
          },
          "metadata": {}
        }
      ]
    },
    {
      "cell_type": "markdown",
      "source": [
        "**The most popular days for trips are Friday, Monday, and Tuesday,** which could potentially indicate that travelers are taking advantage of weekends and long weekends to plan their trips. \n",
        "It could also suggest that travelers are trying to optimize their time off work or school by taking trips during weekdays, which tend to have fewer crowds and lower prices. Additionally, some travelers may prefer to travel during weekdays to avoid the rush of weekend travel."
      ],
      "metadata": {
        "id": "LeXoaoZFY-j9"
      }
    },
    {
      "cell_type": "markdown",
      "source": [
        "# *What is the distribution of nationalities among the travelers?*"
      ],
      "metadata": {
        "id": "kRI-zBnNY-j9"
      }
    },
    {
      "cell_type": "code",
      "source": [
        "nationality_counts = df['Traveler nationality'].value_counts().head(10)\n",
        "plt.figure(figsize=(12,6))\n",
        "plt.bar(nationality_counts.index, nationality_counts.values, color=['#FFD700', '#C0C0C0', '#CD7F32', '#00CED1', '#20B2AA', '#FF69B4', '#1E90FF', '#9ACD32', '#FFA07A', '#7B68EE'])\n",
        "plt.xlabel('Nationality')\n",
        "plt.ylabel('Count')\n",
        "plt.title('Top 10 Nationality', fontweight='bold')\n",
        "plt.grid(axis='y', linestyle='--', alpha=0.7)\n",
        "plt.xticks(rotation=45, ha='right')\n",
        "plt.show()"
      ],
      "metadata": {
        "execution": {
          "iopub.status.busy": "2023-03-12T19:04:44.441891Z",
          "iopub.execute_input": "2023-03-12T19:04:44.442944Z",
          "iopub.status.idle": "2023-03-12T19:04:44.674328Z",
          "shell.execute_reply.started": "2023-03-12T19:04:44.442896Z",
          "shell.execute_reply": "2023-03-12T19:04:44.672877Z"
        },
        "trusted": true,
        "colab": {
          "base_uri": "https://localhost:8080/"
        },
        "id": "Kq0jsSr3Y-j9",
        "outputId": "1574bd75-c041-4693-ee14-4d67851116fc"
      },
      "execution_count": null,
      "outputs": [
        {
          "output_type": "display_data",
          "data": {
            "text/plain": [
              "<Figure size 864x432 with 1 Axes>"
            ],
            "image/png": "[encoded data removed]"
          },
          "metadata": {}
        }
      ]
    },
    {
      "cell_type": "markdown",
      "source": [
        "**American, Korean, British, and Canadian are the most common nationalities among travelers**. This information can be valuable for travel agencies and businesses in the tourism industry to customize their marketing strategies and cater to the needs and preferences of these specific nationalities. They are more likely to travel and potentially spend more money on trips, and may require language support, cultural activities, or cuisine options specific to their backgrounds."
      ],
      "metadata": {
        "id": "XqwS1N4XY-j9"
      }
    },
    {
      "cell_type": "markdown",
      "source": [
        "# *What is the most commonly used type of accommodation by travelers*"
      ],
      "metadata": {
        "id": "5rBrLV5QY-j-"
      }
    },
    {
      "cell_type": "code",
      "source": [
        "# group by Accommodation Type and count number of travelers\n",
        "accommodation_counts = df.groupby('Accommodation type')['Traveler name'].count()\n",
        "\n",
        "# sort by number of travelers in descending order\n",
        "accommodation_counts = accommodation_counts.sort_values(ascending=False)\n",
        "\n",
        "# get top 10 Accommodation Type by number of travelers\n",
        "top_accommodation = accommodation_counts\n",
        "\n",
        "# create a figure and axes object\n",
        "fig, ax = plt.subplots(figsize=(12, 6))\n",
        "ax.barh(top_accommodation.index, top_accommodation.values, color=['#FFC107', '#2196F3', '#4CAF50', '#9C27B0', '#FF5722', '#F44336', '#00BCD4', '#CDDC39', '#673AB7', '#E91E63'])\n",
        "ax.set_title('Accommodation Types by Number of Travelers', fontsize=16, fontweight='bold')\n",
        "ax.set_xlabel('Number of Travelers', fontsize=12)\n",
        "ax.set_ylabel('Accommodation Type', fontsize=12)\n",
        "ax.tick_params(axis='y', labelsize=10)\n",
        "ax.invert_yaxis()\n",
        "plt.show()"
      ],
      "metadata": {
        "execution": {
          "iopub.status.busy": "2023-03-12T19:04:44.675844Z",
          "iopub.execute_input": "2023-03-12T19:04:44.676320Z",
          "iopub.status.idle": "2023-03-12T19:04:44.924741Z",
          "shell.execute_reply.started": "2023-03-12T19:04:44.676272Z",
          "shell.execute_reply": "2023-03-12T19:04:44.923603Z"
        },
        "trusted": true,
        "colab": {
          "base_uri": "https://localhost:8080/"
        },
        "id": "uxo2J6QlY-j-",
        "outputId": "b3f422a8-1596-469d-8bf4-ec601b26f844"
      },
      "execution_count": null,
      "outputs": [
        {
          "output_type": "display_data",
          "data": {
            "text/plain": [
              "<Figure size 864x432 with 1 Axes>"
            ],
            "image/png": "[encoded data removed]"
          },
          "metadata": {}
        }
      ]
    },
    {
      "cell_type": "markdown",
      "source": [
        "**Hotels, followed by Airbnb, hostels, and resorts, are the most common types of accommodations used by travelers**. Travelers tend to prefer these types of accommodations due to their convenience, availability, and affordability. Hotels offer various amenities and services such as room service, breakfast, and access to a pool or gym, while Airbnb provides a unique and personalized experience with its home-sharing concept. Hostels and resorts are also popular options, especially for budget-conscious travelers or those looking for a luxurious vacation. Knowing the most common types of accommodations can help travel agencies tailor their packages to meet the needs and preferences of their customers."
      ],
      "metadata": {
        "id": "ITK8iOXHY-j-"
      }
    },
    {
      "cell_type": "markdown",
      "source": [
        "# *How does the cost of accommodation vary with the type of accommodation?*"
      ],
      "metadata": {
        "id": "OCiJUUvhY-j-"
      }
    },
    {
      "cell_type": "markdown",
      "source": [
        "The median was used to calculate the cost of accommodation because of the presence of outliers in the data. Outliers can heavily impact the mean, leading to an inaccurate portrayal of the typical cost. Utilizing the median, which represents the middle value in the data, results in a more resilient measure of central tendency that is not affected by extreme values. Consequently, using the median is a more suitable method to examine the data and draw significant conclusions regarding the typical cost of accommodation."
      ],
      "metadata": {
        "id": "yfQwkg5hY-j-"
      }
    },
    {
      "cell_type": "code",
      "source": [
        "# Calculating median price for each type of accommodation\n",
        "med_price = df.groupby('Accommodation type')['Accommodation cost'].median()\n",
        "\n",
        "# Sorting by highest price\n",
        "med_price = med_price.sort_values(ascending=False)\n",
        "\n",
        "# Creating plot\n",
        "fig, ax = plt.subplots(figsize=(12,6))\n",
        "ax.bar(med_price.index, med_price.values, color=colors)\n",
        "colors = ['mediumturquoise', 'mediumturquoise', 'cornflowerblue', 'cornflowerblue', 'mediumslateblue', 'mediumslateblue', 'lightcoral', 'lightcoral', 'palevioletred', 'palevioletred']\n",
        "ax.set_xlabel('Accommodation Type')\n",
        "ax.set_ylabel('USD')\n",
        "ax.set_title('Median Accommodation Cost by Type', fontweight='bold')\n",
        "ax.spines['top'].set_visible(False)\n",
        "ax.spines['right'].set_visible(False)\n",
        "plt.subplots_adjust(bottom=0.25)\n",
        "ax.tick_params(axis='x', rotation=45)\n",
        "plt.show()"
      ],
      "metadata": {
        "execution": {
          "iopub.status.busy": "2023-03-12T19:04:44.926257Z",
          "iopub.execute_input": "2023-03-12T19:04:44.927127Z",
          "iopub.status.idle": "2023-03-12T19:04:45.158021Z",
          "shell.execute_reply.started": "2023-03-12T19:04:44.927089Z",
          "shell.execute_reply": "2023-03-12T19:04:45.156765Z"
        },
        "trusted": true,
        "colab": {
          "base_uri": "https://localhost:8080/",
          "height": 393
        },
        "id": "tWEJD3nmY-j-",
        "outputId": "2c37c33f-189f-40b5-bd78-2d6b03cbd278"
      },
      "execution_count": null,
      "outputs": [
        {
          "output_type": "display_data",
          "data": {
            "text/plain": [
              "<Figure size 864x432 with 1 Axes>"
            ],
            "image/png": "[encoded data removed]"
          },
          "metadata": {}
        }
      ]
    },
    {
      "cell_type": "markdown",
      "source": [
        "**The highest accommodation costs are found in resorts, villas, and hotels, while the lowest are found in hostels and guesthouses.** This suggests that there is a correlation between the most commonly used types of accommodation and their associated costs. For example, hotels may be a more popular choice due to their wider availability and ability to provide more luxurious services and facilities, resulting in higher costs. In contrast, hostels and guesthouses can be a more budget-friendly option as they typically offer lower prices and simpler facilities. This data can be utilized by travel agencies to design travel packages that cater to the needs and preferences of their customers, whether they prioritize comfort or cost savings."
      ],
      "metadata": {
        "id": "UUOPeIMYY-j_"
      }
    },
    {
      "cell_type": "markdown",
      "source": [
        "# *What is the most commonly used transportation mode among travelers?*"
      ],
      "metadata": {
        "id": "hbLVUeNBY-j_"
      }
    },
    {
      "cell_type": "code",
      "source": [
        "# group by Transportation Type and count number of travelers\n",
        "transportation_counts = df.groupby('Transportation type')['Traveler name'].count()\n",
        "\n",
        "# sort by number of travelers in descending order\n",
        "transportation_counts = transportation_counts.sort_values(ascending=False)\n",
        "\n",
        "# get top 10 Transportation Type by number of travelers\n",
        "top_transportation = transportation_counts\n",
        "\n",
        "# create bar chart\n",
        "fig, ax = plt.subplots(figsize=(12,6))\n",
        "ax.bar(top_transportation.index, top_transportation.values, color='mediumseagreen')\n",
        "ax.set_title('Transportation Types by Number of Travelers', fontsize=16, fontweight='bold')\n",
        "ax.set_xlabel('Transportation Type', fontsize=14)\n",
        "ax.set_ylabel('Number of Travelers', fontsize=14)\n",
        "ax.set_xticks(range(len(top_transportation)))\n",
        "ax.set_xticklabels(top_transportation.index, rotation=45, fontsize=12)\n",
        "ax.grid(axis='y')\n",
        "ax.spines['top'].set_visible(False)\n",
        "ax.spines['right'].set_visible(False)\n",
        "plt.show()"
      ],
      "metadata": {
        "execution": {
          "iopub.status.busy": "2023-03-12T19:04:45.160276Z",
          "iopub.execute_input": "2023-03-12T19:04:45.160798Z",
          "iopub.status.idle": "2023-03-12T19:04:45.386639Z",
          "shell.execute_reply.started": "2023-03-12T19:04:45.160739Z",
          "shell.execute_reply": "2023-03-12T19:04:45.385364Z"
        },
        "trusted": true,
        "colab": {
          "base_uri": "https://localhost:8080/",
          "height": 446
        },
        "id": "tqnSpvesY-j_",
        "outputId": "efcf74c2-58da-44ef-b794-42857b2b97ac"
      },
      "execution_count": null,
      "outputs": [
        {
          "output_type": "display_data",
          "data": {
            "text/plain": [
              "<Figure size 864x432 with 1 Axes>"
            ],
            "image/png": "[encoded data removed]"
          },
          "metadata": {}
        }
      ]
    },
    {
      "cell_type": "markdown",
      "source": [
        "**The most popular modes of transportation for travelers are airplanes, trains, and car rentals**. This indicates that travelers prefer convenient and efficient modes of transportation for long-distance travel. Airplanes are the most popular mode of transportation due to their speed and ability to cover long distances in a short amount of time. Trains are also popular because they offer a comfortable and scenic way to travel, especially for shorter distances. Car rentals are preferred by travelers who want to explore a destination independently or who have specific travel needs, such as transporting large amounts of luggage or traveling with children. This information can be useful for travel agencies in developing travel packages that offer a variety of transportation options based on the client's preferences."
      ],
      "metadata": {
        "id": "EPla4FVTY-j_"
      }
    },
    {
      "cell_type": "markdown",
      "source": [
        "# *How does the cost of transportation vary with the type of transportation?*"
      ],
      "metadata": {
        "id": "at62KUUmY-j_"
      }
    },
    {
      "cell_type": "markdown",
      "source": [
        "The median was used to calculate the cost of transportation because of the presence of outliers in the data. Outliers can heavily impact the mean, leading to an inaccurate portrayal of the typical cost. Utilizing the median, which represents the middle value in the data, results in a more resilient measure of central tendency that is not affected by extreme values. Consequently, using the median is a more suitable method to examine the data and draw significant conclusions regarding the typical cost of transportation."
      ],
      "metadata": {
        "id": "oAgwYJ4xY-j_"
      }
    },
    {
      "cell_type": "code",
      "source": [
        "# Calculating median price for each transportation type\n",
        "med_price = df.groupby('Transportation type')['Transportation cost'].median()\n",
        "\n",
        "# Sorting by highest price\n",
        "med_price = med_price.sort_values(ascending=False)\n",
        "\n",
        "fig, ax = plt.subplots(figsize=(12,6))\n",
        "colors = sns.color_palette('tab20c', len(med_price.index))\n",
        "ax.bar(med_price.index, med_price.values, color=colors)\n",
        "ax.grid(True, axis='y')\n",
        "ax.set_xlabel('Transportation Type', fontsize=12)\n",
        "ax.set_ylabel('USD', fontsize=12)\n",
        "ax.tick_params(axis='both', which='major', labelsize=10)\n",
        "ax.set_title('Median Transportation Cost by Type', fontsize=14, fontweight='bold')\n",
        "ax.tick_params(axis='x', rotation=45)\n",
        "plt.show()"
      ],
      "metadata": {
        "execution": {
          "iopub.status.busy": "2023-03-12T19:04:45.388428Z",
          "iopub.execute_input": "2023-03-12T19:04:45.388916Z",
          "iopub.status.idle": "2023-03-12T19:04:45.614889Z",
          "shell.execute_reply.started": "2023-03-12T19:04:45.388845Z",
          "shell.execute_reply": "2023-03-12T19:04:45.613689Z"
        },
        "trusted": true,
        "colab": {
          "base_uri": "https://localhost:8080/",
          "height": 435
        },
        "id": "5GBaHYHMY-j_",
        "outputId": "e95c4d21-110d-4295-ffa7-b92a705ab0aa"
      },
      "execution_count": null,
      "outputs": [
        {
          "output_type": "display_data",
          "data": {
            "text/plain": [
              "<Figure size 864x432 with 1 Axes>"
            ],
            "image/png": "[encoded data removed]"
          },
          "metadata": {}
        }
      ]
    },
    {
      "cell_type": "markdown",
      "source": [
        "The data shows that the most popular modes of transportation used by travelers are airplanes, trains, and car rentals. This indicates a correlation between the popularity of transportation types and their corresponding costs. For example, air travel may be the most popular choice due to its speed and convenience, but it can also be more expensive than other modes of transportation such as subways or buses. Similarly, renting a car can provide more flexibility and convenience but may also come with a higher price tag.\n",
        "\n",
        "**The highest transportation costs are for cars, followed by airplanes and car rentals, while subways and buses have the lowest costs.** This information can be useful for travel agencies to offer packages that cater to different budget ranges and preferences. For example, budget-conscious travelers may be more interested in packages that prioritize the use of lower-cost transportation modes like buses or subways. On the other hand, luxury travelers may prefer packages that prioritize more expensive modes of transportation like first-class air travel or luxury car rentals."
      ],
      "metadata": {
        "id": "5St0HNGRY-kA"
      }
    },
    {
      "cell_type": "markdown",
      "source": [
        "# *What is the distribution of trip durations among travellers?*"
      ],
      "metadata": {
        "id": "JuVOZ6w-Y-kA"
      }
    },
    {
      "cell_type": "code",
      "source": [
        "median_duration = df['Duration (days)'].median()\n",
        "\n",
        "fig, ax = plt.subplots(figsize=(12,6))\n",
        "plt.hist(df['Duration (days)'], bins=10, color='purple')\n",
        "plt.xlabel('Trip duration (days)')\n",
        "plt.ylabel('Number of trips')\n",
        "plt.title('Distribution of Trip Durations\\n(Median: {} days)'.format(median_duration), fontweight='bold')\n",
        "plt.grid(axis='y', alpha=0.75)\n",
        "plt.show()\n"
      ],
      "metadata": {
        "execution": {
          "iopub.status.busy": "2023-03-12T19:04:45.616836Z",
          "iopub.execute_input": "2023-03-12T19:04:45.617305Z",
          "iopub.status.idle": "2023-03-12T19:04:45.849169Z",
          "shell.execute_reply.started": "2023-03-12T19:04:45.617256Z",
          "shell.execute_reply": "2023-03-12T19:04:45.848031Z"
        },
        "trusted": true,
        "colab": {
          "base_uri": "https://localhost:8080/"
        },
        "id": "0WjWzKeMY-kA",
        "outputId": "8bac9a73-46fa-4580-c73d-39a908c34d66"
      },
      "execution_count": null,
      "outputs": [
        {
          "output_type": "display_data",
          "data": {
            "text/plain": [
              "<Figure size 864x432 with 1 Axes>"
            ],
            "image/png": "[encoded data removed]"
          },
          "metadata": {}
        }
      ]
    },
    {
      "cell_type": "markdown",
      "source": [
        "**The visualization shows that the majority of trip durations fall between 6-9 days, with the highest number of trips taken on the 7th day**. There were more than 50 trips taken on the 7th day, followed by 20+ trips on the 8th day and 15+ trips on the 9th day. In general, most trips lasted between 5-10 days, with 10 trips each on the 5th and 10th days.\n",
        "\n",
        "The data shows that most travelers tend to take trips that last for about a week or slightly longer. This could be due to various reasons such as work schedules, budget constraints, and other commitments. Trips that are too short may not allow travelers to fully explore and enjoy the destination, while trips that are too long may be too costly or may interfere with other aspects of their lives. The most popular trip durations fall within the range of 6-9 days, with the highest number of trips being taken on the 7th day. This information can be helpful for travel agencies to design packages that cater to the preferences and needs of their clients, such as offering 7-day packages with various activities and attractions to explore."
      ],
      "metadata": {
        "id": "Sai92WHPY-kA"
      }
    }
  ]
}